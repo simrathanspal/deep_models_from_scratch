{
  "nbformat": 4,
  "nbformat_minor": 0,
  "metadata": {
    "colab": {
      "provenance": [],
      "authorship_tag": "ABX9TyPQJQlgaKeD/4ROW3Lbu9SQ",
      "include_colab_link": true
    },
    "kernelspec": {
      "name": "python3",
      "display_name": "Python 3"
    },
    "language_info": {
      "name": "python"
    }
  },
  "cells": [
    {
      "cell_type": "markdown",
      "metadata": {
        "id": "view-in-github",
        "colab_type": "text"
      },
      "source": [
        "<a href=\"https://colab.research.google.com/github/simrathanspal/deep_models_from_scratch/blob/main/DeepLearning_Book_Linear_Algebra.ipynb\" target=\"_parent\"><img src=\"https://colab.research.google.com/assets/colab-badge.svg\" alt=\"Open In Colab\"/></a>"
      ]
    },
    {
      "cell_type": "markdown",
      "source": [
        "## Intro to NumPy"
      ],
      "metadata": {
        "id": "it7Ri68rj8kU"
      }
    },
    {
      "cell_type": "code",
      "execution_count": 1,
      "metadata": {
        "id": "evRMiXvUjwgV"
      },
      "outputs": [],
      "source": [
        "import numpy as np\n",
        "import math\n"
      ]
    },
    {
      "cell_type": "markdown",
      "source": [
        "Notations\n",
        "\n",
        "\n",
        "Capital letter will represent matrix or a tensor and small letter will represent scalar or a vector"
      ],
      "metadata": {
        "id": "36dzuE4lvJWJ"
      }
    },
    {
      "cell_type": "code",
      "source": [
        "# Scalar is a single number eg: 5\n",
        "scalar_list = [5]"
      ],
      "metadata": {
        "id": "mmgk7eE4kFd9"
      },
      "execution_count": 7,
      "outputs": []
    },
    {
      "cell_type": "code",
      "source": [
        "# Vector is a list of number\n",
        "\n",
        "vector = [1,2,3]\n",
        "\n",
        "# Row vector\n",
        "[[1,2,3]]\n",
        "\n",
        "# Column vector\n",
        "[[1],[2],[3]]"
      ],
      "metadata": {
        "id": "vyW0ibM_kO_y"
      },
      "execution_count": 8,
      "outputs": []
    },
    {
      "cell_type": "code",
      "source": [
        "#Matrix is 2D array of numbers, basically a container of vectors\n",
        "matrix = [[1,2,3],\n",
        "          [4,5,6]]"
      ],
      "metadata": {
        "id": "t5TjsssvkTnx"
      },
      "execution_count": 9,
      "outputs": []
    },
    {
      "cell_type": "code",
      "source": [
        "# Tensor is a higher order matrix with more than 2 dimensions\n",
        "\n",
        "tensor = [[[1,2],\n",
        "            [3,4]],\n",
        "          [[5,6],\n",
        "            [7,8]]\n",
        "          ]"
      ],
      "metadata": {
        "id": "m2aUtpPBkf9p"
      },
      "execution_count": 11,
      "outputs": []
    },
    {
      "cell_type": "code",
      "source": [
        "# Shape - number of dimensions\n",
        "\n",
        "print(f\"Shape of scalar: {np.array(scalar_list).shape}\")\n",
        "print(f\"Shape of vector: {np.array(vector).shape}\")\n",
        "print(f\"Shape of matrix: {np.array(matrix).shape}\")\n",
        "print(f\"Shape of tensor: {np.array(tensor).shape}\")"
      ],
      "metadata": {
        "colab": {
          "base_uri": "https://localhost:8080/"
        },
        "id": "U9CNnXh_lqaV",
        "outputId": "29f0fca0-cf54-455d-da75-ae15dc043d82"
      },
      "execution_count": 17,
      "outputs": [
        {
          "output_type": "stream",
          "name": "stdout",
          "text": [
            "Shape of scalar: (1,)\n",
            "Shape of vector: (3,)\n",
            "Shape of matrix: (2, 3)\n",
            "Shape of tensor: (2, 2, 2)\n"
          ]
        }
      ]
    },
    {
      "cell_type": "code",
      "source": [
        "# Rank of matrix = number of independent rows or columns\n",
        "# (amount of unique information)\n",
        "# Since Row2 is 2*Row1 and Row3 is 3*Row1\n",
        "# The Rank of the matrix is just 1\n",
        "\n",
        "np.linalg.matrix_rank(np.array([[1, 2, 3],\n",
        "                                  [2, 4, 6],\n",
        "                                  [3, 6, 9]]))"
      ],
      "metadata": {
        "colab": {
          "base_uri": "https://localhost:8080/"
        },
        "id": "o5F5NsyHmjYt",
        "outputId": "1256f4fa-47cc-46bb-fc51-2d421ab5c72f"
      },
      "execution_count": 16,
      "outputs": [
        {
          "output_type": "execute_result",
          "data": {
            "text/plain": [
              "np.int64(1)"
            ]
          },
          "metadata": {},
          "execution_count": 16
        }
      ]
    },
    {
      "cell_type": "code",
      "source": [
        "np.linalg.matrix_rank(np.array([[1,2,3],\n",
        "                                [4,5,6]]))"
      ],
      "metadata": {
        "colab": {
          "base_uri": "https://localhost:8080/"
        },
        "id": "JW0rGvxPo6iH",
        "outputId": "0f8d1219-031b-4d10-8fc4-f3cb396060e7"
      },
      "execution_count": 20,
      "outputs": [
        {
          "output_type": "execute_result",
          "data": {
            "text/plain": [
              "np.int64(2)"
            ]
          },
          "metadata": {},
          "execution_count": 20
        }
      ]
    },
    {
      "cell_type": "code",
      "source": [
        "# Here we are computing the shape and then computing the rank of it\n",
        "# For example shape of matrix = [[1,2,3], [4,5,6]] => (2,3)\n",
        "# Numpy converts it to [2,3] and this is 1 independent row hence rank is 1\n",
        "\n",
        "print(f\"Shape of scalar: {np.linalg.matrix_rank(np.array(scalar_list).shape)}\")\n",
        "print(f\"Shape of vector: {np.linalg.matrix_rank(np.array(vector).shape)}\")\n",
        "print(f\"Shape of matrix: {np.linalg.matrix_rank(np.array(matrix).shape)}\")\n",
        "print(f\"Shape of tensor: {np.linalg.matrix_rank(np.array(tensor).shape)}\")"
      ],
      "metadata": {
        "colab": {
          "base_uri": "https://localhost:8080/"
        },
        "id": "yThPp0M0l5lW",
        "outputId": "a29a69c5-bb5f-49ae-9759-c98f27cea257"
      },
      "execution_count": 14,
      "outputs": [
        {
          "output_type": "stream",
          "name": "stdout",
          "text": [
            "Shape of scalar: 1\n",
            "Shape of vector: 1\n",
            "Shape of matrix: 1\n",
            "Shape of tensor: 1\n"
          ]
        }
      ]
    },
    {
      "cell_type": "code",
      "source": [
        "# Indexing\n",
        "\n",
        "A = np.arange(12).reshape(3,4)\n",
        "\n",
        "A"
      ],
      "metadata": {
        "colab": {
          "base_uri": "https://localhost:8080/"
        },
        "id": "vM3g600un9gF",
        "outputId": "01022f27-d809-4d26-db81-c1ce4d83daab"
      },
      "execution_count": 21,
      "outputs": [
        {
          "output_type": "execute_result",
          "data": {
            "text/plain": [
              "array([[ 0,  1,  2,  3],\n",
              "       [ 4,  5,  6,  7],\n",
              "       [ 8,  9, 10, 11]])"
            ]
          },
          "metadata": {},
          "execution_count": 21
        }
      ]
    },
    {
      "cell_type": "code",
      "source": [
        "# Index a specific position row=i and col=j\n",
        "# A[i,j]\n",
        "\n",
        "A[2,3]"
      ],
      "metadata": {
        "colab": {
          "base_uri": "https://localhost:8080/"
        },
        "id": "xpdN1yvcuQmC",
        "outputId": "62fde125-f2cc-4cac-b7be-a6bdc1e29ea4"
      },
      "execution_count": 24,
      "outputs": [
        {
          "output_type": "execute_result",
          "data": {
            "text/plain": [
              "np.int64(11)"
            ]
          },
          "metadata": {},
          "execution_count": 24
        }
      ]
    },
    {
      "cell_type": "code",
      "source": [
        "# All values of a specific column\n",
        "A[:,3]"
      ],
      "metadata": {
        "colab": {
          "base_uri": "https://localhost:8080/"
        },
        "id": "M_9jgNsluU7R",
        "outputId": "8a3ec900-1986-4621-dcc0-158aefa2a0dc"
      },
      "execution_count": 25,
      "outputs": [
        {
          "output_type": "execute_result",
          "data": {
            "text/plain": [
              "array([ 3,  7, 11])"
            ]
          },
          "metadata": {},
          "execution_count": 25
        }
      ]
    },
    {
      "cell_type": "code",
      "source": [
        "# All values of a specific row\n",
        "# A[2,:] or simply A[2]\n",
        "\n",
        "A[2]"
      ],
      "metadata": {
        "colab": {
          "base_uri": "https://localhost:8080/"
        },
        "id": "8XkQwVlJui-F",
        "outputId": "4df88a62-9e38-4e8b-fa0a-d8fe5533c70e"
      },
      "execution_count": 27,
      "outputs": [
        {
          "output_type": "execute_result",
          "data": {
            "text/plain": [
              "array([ 8,  9, 10, 11])"
            ]
          },
          "metadata": {},
          "execution_count": 27
        }
      ]
    },
    {
      "cell_type": "code",
      "source": [
        "# Print the whole array\n",
        "# A[:,:] or simply A\n",
        "A[:,:]"
      ],
      "metadata": {
        "colab": {
          "base_uri": "https://localhost:8080/"
        },
        "id": "V50GhEhxurPF",
        "outputId": "76ae172d-0d6e-43cf-93bd-ad6821a743ca"
      },
      "execution_count": 28,
      "outputs": [
        {
          "output_type": "execute_result",
          "data": {
            "text/plain": [
              "array([[ 0,  1,  2,  3],\n",
              "       [ 4,  5,  6,  7],\n",
              "       [ 8,  9, 10, 11]])"
            ]
          },
          "metadata": {},
          "execution_count": 28
        }
      ]
    },
    {
      "cell_type": "code",
      "source": [
        "# Matrix Addition - Element wise scalar addition\n",
        "# A + a\n",
        "# This would add scalar value to every element of A\n",
        "# Numpy internally broadcast to create a new array of same size as A and then add\n",
        "\n",
        "A = np.array([[1,2],[3,4],[5,6]])\n",
        "\n",
        "A + 10\n",
        "\n"
      ],
      "metadata": {
        "colab": {
          "base_uri": "https://localhost:8080/"
        },
        "id": "YMpeN11xwWXu",
        "outputId": "2f9a0084-bb30-420b-95fb-deec1e035a57"
      },
      "execution_count": 36,
      "outputs": [
        {
          "output_type": "execute_result",
          "data": {
            "text/plain": [
              "array([[11, 12],\n",
              "       [13, 14],\n",
              "       [15, 16]])"
            ]
          },
          "metadata": {},
          "execution_count": 36
        }
      ]
    },
    {
      "cell_type": "code",
      "source": [
        "# Matrix addition needs to be same shapes because it is element wise addition\n",
        "# i.e (A_i, A_j) will get summed with (B_i, B_j)\n",
        "\n",
        "# Lets check out this example\n",
        "A = np.array([[1,2],[3,4],[5,6]])\n",
        "B = np.array([[2,4,6],[1,2,3]])\n",
        "\n",
        "print(f\"Shape of A: {A.shape}\")\n",
        "print(f\"Shape of B: {B.shape}\")\n",
        "\n",
        "A+B"
      ],
      "metadata": {
        "colab": {
          "base_uri": "https://localhost:8080/",
          "height": 211
        },
        "id": "u2BnHrBEwsf2",
        "outputId": "a4262ad6-36cb-487b-edd9-b85f31d8567b"
      },
      "execution_count": 33,
      "outputs": [
        {
          "output_type": "stream",
          "name": "stdout",
          "text": [
            "Shape of A: (3, 2)\n",
            "Shape of B: (2, 3)\n"
          ]
        },
        {
          "output_type": "error",
          "ename": "ValueError",
          "evalue": "operands could not be broadcast together with shapes (3,2) (2,3) ",
          "traceback": [
            "\u001b[0;31m---------------------------------------------------------------------------\u001b[0m",
            "\u001b[0;31mValueError\u001b[0m                                Traceback (most recent call last)",
            "\u001b[0;32m/tmp/ipython-input-3233491685.py\u001b[0m in \u001b[0;36m<cell line: 0>\u001b[0;34m()\u001b[0m\n\u001b[1;32m      9\u001b[0m \u001b[0mprint\u001b[0m\u001b[0;34m(\u001b[0m\u001b[0;34mf\"Shape of B: {B.shape}\"\u001b[0m\u001b[0;34m)\u001b[0m\u001b[0;34m\u001b[0m\u001b[0;34m\u001b[0m\u001b[0m\n\u001b[1;32m     10\u001b[0m \u001b[0;34m\u001b[0m\u001b[0m\n\u001b[0;32m---> 11\u001b[0;31m \u001b[0mA\u001b[0m\u001b[0;34m+\u001b[0m\u001b[0mB\u001b[0m\u001b[0;34m\u001b[0m\u001b[0;34m\u001b[0m\u001b[0m\n\u001b[0m",
            "\u001b[0;31mValueError\u001b[0m: operands could not be broadcast together with shapes (3,2) (2,3) "
          ]
        }
      ]
    },
    {
      "cell_type": "code",
      "source": [
        "# Matrix multiplication - Element wise multiplication\n",
        "# Same way multiplication also needs same size\n",
        "# Numpy function is called np.multiply\n",
        "# Shorthand notation A*B\n",
        "\n",
        "A = np.array([[1,2],[3,4],[5,6]])\n",
        "B = np.array([[2,4,6],[1,2,3]])\n",
        "\n",
        "C = A*B\n",
        "C"
      ],
      "metadata": {
        "colab": {
          "base_uri": "https://localhost:8080/",
          "height": 193
        },
        "id": "_DhRN7UBu1cD",
        "outputId": "80bd1a48-112f-47ee-dc8e-0474b633ac19"
      },
      "execution_count": 34,
      "outputs": [
        {
          "output_type": "error",
          "ename": "ValueError",
          "evalue": "operands could not be broadcast together with shapes (3,2) (2,3) ",
          "traceback": [
            "\u001b[0;31m---------------------------------------------------------------------------\u001b[0m",
            "\u001b[0;31mValueError\u001b[0m                                Traceback (most recent call last)",
            "\u001b[0;32m/tmp/ipython-input-2730902941.py\u001b[0m in \u001b[0;36m<cell line: 0>\u001b[0;34m()\u001b[0m\n\u001b[1;32m      5\u001b[0m \u001b[0mB\u001b[0m \u001b[0;34m=\u001b[0m \u001b[0mnp\u001b[0m\u001b[0;34m.\u001b[0m\u001b[0marray\u001b[0m\u001b[0;34m(\u001b[0m\u001b[0;34m[\u001b[0m\u001b[0;34m[\u001b[0m\u001b[0;36m2\u001b[0m\u001b[0;34m,\u001b[0m\u001b[0;36m4\u001b[0m\u001b[0;34m,\u001b[0m\u001b[0;36m6\u001b[0m\u001b[0;34m]\u001b[0m\u001b[0;34m,\u001b[0m\u001b[0;34m[\u001b[0m\u001b[0;36m1\u001b[0m\u001b[0;34m,\u001b[0m\u001b[0;36m2\u001b[0m\u001b[0;34m,\u001b[0m\u001b[0;36m3\u001b[0m\u001b[0;34m]\u001b[0m\u001b[0;34m]\u001b[0m\u001b[0;34m)\u001b[0m\u001b[0;34m\u001b[0m\u001b[0;34m\u001b[0m\u001b[0m\n\u001b[1;32m      6\u001b[0m \u001b[0;34m\u001b[0m\u001b[0m\n\u001b[0;32m----> 7\u001b[0;31m \u001b[0mC\u001b[0m \u001b[0;34m=\u001b[0m \u001b[0mA\u001b[0m\u001b[0;34m*\u001b[0m\u001b[0mB\u001b[0m\u001b[0;34m\u001b[0m\u001b[0;34m\u001b[0m\u001b[0m\n\u001b[0m\u001b[1;32m      8\u001b[0m \u001b[0mC\u001b[0m\u001b[0;34m\u001b[0m\u001b[0;34m\u001b[0m\u001b[0m\n",
            "\u001b[0;31mValueError\u001b[0m: operands could not be broadcast together with shapes (3,2) (2,3) "
          ]
        }
      ]
    },
    {
      "cell_type": "code",
      "source": [
        "# Numpy matmul\n",
        "# sum (col of M1 * row of M2)\n",
        "# Hence the inner dimensions must match\n",
        "# eg: (x,m) (m,y)\n",
        "# Short hand notation A@B\n",
        "# Example 1,3,4 * 2,4,6 => (1*2) + (3*4) + (4*6)\n",
        "\n",
        "C = np.matmul(A, B)\n",
        "C"
      ],
      "metadata": {
        "colab": {
          "base_uri": "https://localhost:8080/"
        },
        "id": "tiF7aU7Rvw5c",
        "outputId": "6274269c-12d4-4827-e2b9-f62756282f5f"
      },
      "execution_count": 30,
      "outputs": [
        {
          "output_type": "execute_result",
          "data": {
            "text/plain": [
              "array([[ 4,  8, 12],\n",
              "       [10, 20, 30],\n",
              "       [16, 32, 48]])"
            ]
          },
          "metadata": {},
          "execution_count": 30
        }
      ]
    },
    {
      "cell_type": "code",
      "source": [
        "np.dot(np.array([[1, 2], [3, 4]]), 10)"
      ],
      "metadata": {
        "colab": {
          "base_uri": "https://localhost:8080/"
        },
        "id": "MjSr2tQLv9p6",
        "outputId": "7af46b8d-301c-48db-ebb7-dd52914ddf30"
      },
      "execution_count": 37,
      "outputs": [
        {
          "output_type": "execute_result",
          "data": {
            "text/plain": [
              "array([[10, 20],\n",
              "       [30, 40]])"
            ]
          },
          "metadata": {},
          "execution_count": 37
        }
      ]
    },
    {
      "cell_type": "code",
      "source": [
        "# Transpose - flips a matrix along its diagonal\n",
        "# Rows become the col and col become rows\n",
        "\n",
        "print(A)\n",
        "print(\"\\nTranspose\")\n",
        "np.transpose(A)"
      ],
      "metadata": {
        "colab": {
          "base_uri": "https://localhost:8080/"
        },
        "id": "rJhlVDqG4Uts",
        "outputId": "ef70f1e0-6f9b-4855-d623-c4cfc48aa1f2"
      },
      "execution_count": 42,
      "outputs": [
        {
          "output_type": "stream",
          "name": "stdout",
          "text": [
            "[[1 2]\n",
            " [3 4]\n",
            " [5 6]]\n",
            "\n",
            "Transpose\n"
          ]
        },
        {
          "output_type": "execute_result",
          "data": {
            "text/plain": [
              "array([[1, 3, 5],\n",
              "       [2, 4, 6]])"
            ]
          },
          "metadata": {},
          "execution_count": 42
        }
      ]
    },
    {
      "cell_type": "code",
      "source": [
        "# Identity and Inverse Matrix\n",
        "# If you multiply (A-1)A = I (identity matrix)\n",
        "\n",
        "A = np.random.rand(2,2)\n",
        "\n",
        "I = np.matmul(np.linalg.inv(A), A)\n",
        "I_ = np.identity(2)\n",
        "\n",
        "I == I_"
      ],
      "metadata": {
        "colab": {
          "base_uri": "https://localhost:8080/"
        },
        "id": "J9fM6GWz5pP0",
        "outputId": "56933f82-54be-4a77-d0f6-64d31097769e"
      },
      "execution_count": 47,
      "outputs": [
        {
          "output_type": "execute_result",
          "data": {
            "text/plain": [
              "array([[False, False],\n",
              "       [False, False]])"
            ]
          },
          "metadata": {},
          "execution_count": 47
        }
      ]
    },
    {
      "cell_type": "code",
      "source": [
        "# Note we did exactly the same as expected still the identity matrix is not matching.\n",
        "# This is happening because of floating point numbers"
      ],
      "metadata": {
        "id": "eZZWYWm9-LuM"
      },
      "execution_count": 46,
      "outputs": []
    },
    {
      "cell_type": "code",
      "source": [
        "I"
      ],
      "metadata": {
        "colab": {
          "base_uri": "https://localhost:8080/"
        },
        "id": "PUzIsuTYEbJx",
        "outputId": "c5634ef8-afab-4a6d-b135-4a6c389f34e7"
      },
      "execution_count": 48,
      "outputs": [
        {
          "output_type": "execute_result",
          "data": {
            "text/plain": [
              "array([[1.00000000e+00, 8.45832772e-17],\n",
              "       [5.31181241e-18, 1.00000000e+00]])"
            ]
          },
          "metadata": {},
          "execution_count": 48
        }
      ]
    },
    {
      "cell_type": "code",
      "source": [
        "# Hence let us define tolerance range and the compare\n",
        "\n",
        "np.allclose(I, I_)"
      ],
      "metadata": {
        "colab": {
          "base_uri": "https://localhost:8080/"
        },
        "id": "nxiLTcGmEtNx",
        "outputId": "3008a63d-4ef5-418d-b667-827f02d17daf"
      },
      "execution_count": 49,
      "outputs": [
        {
          "output_type": "execute_result",
          "data": {
            "text/plain": [
              "True"
            ]
          },
          "metadata": {},
          "execution_count": 49
        }
      ]
    },
    {
      "cell_type": "code",
      "source": [
        "# Not all matrix inverse exists hence we can use\n",
        "# Moore-Penrose psuedo inverse of the matrix => closest to inverse\n",
        "# Matrix inversion is not defined for matrix that is not square\n",
        "\n",
        "np.matmul(np.linalg.pinv(A), A)"
      ],
      "metadata": {
        "colab": {
          "base_uri": "https://localhost:8080/"
        },
        "id": "UkybXpvHE7C6",
        "outputId": "02e3d44d-4ebc-465f-f893-1642ac656bff"
      },
      "execution_count": 52,
      "outputs": [
        {
          "output_type": "execute_result",
          "data": {
            "text/plain": [
              "array([[1.00000000e+00, 3.54144662e-16],\n",
              "       [5.07400348e-16, 1.00000000e+00]])"
            ]
          },
          "metadata": {},
          "execution_count": 52
        }
      ]
    },
    {
      "cell_type": "code",
      "source": [
        "# Norm - size of a vector\n",
        "# Norm of vector x is the distance from origin to point x\n",
        "# Imagine a vector starting from origin and touching point x, that is also the\n",
        "# length of the vector\n",
        "\n",
        "# L_p norm = (Sigma(value_i^p))^(1/p)\n",
        "\n",
        "#L2 norm is the euclidean norm which is the euclidean distance of the point from origin\n",
        "# Hence denoted as ||x|| (or ||x||2)\n",
        "\n",
        "np.linalg.norm(np.array([3,4]))\n"
      ],
      "metadata": {
        "colab": {
          "base_uri": "https://localhost:8080/"
        },
        "id": "nXWrFSyfFZ7P",
        "outputId": "ac038e65-797a-4dda-ce62-03ba79c0c175"
      },
      "execution_count": 53,
      "outputs": [
        {
          "output_type": "execute_result",
          "data": {
            "text/plain": [
              "np.float64(5.0)"
            ]
          },
          "metadata": {},
          "execution_count": 53
        }
      ]
    },
    {
      "cell_type": "code",
      "source": [
        "# Special kind of matrices\n",
        "\n",
        "# 1) Diagonal matrix, special case is Identity matrix with all diagonal values as 1\n",
        "# np.diag(Matrix) => returns the diagonal\n",
        "# 2) Identity matrix\n",
        "# 3) Symmetric matrix matrix transpose = matrix, MT = M\n",
        "# 4) Unit vector is a vector with unit norm\n",
        "# 5) Orthogonal vectors x(T).y = 0\n",
        "# 6) If the vectors are Orthogonal and have unit norm => Orthonormal\n",
        "# 7) Orthogonal matrix => Rows are mutually orthonormal and cols are mutually\n",
        "# orthonormal.\n",
        "# A-1.A = I\n",
        "# but if AT.A = I\n",
        "# => A-1 = AT\n"
      ],
      "metadata": {
        "id": "F401CwlToX5X"
      },
      "execution_count": null,
      "outputs": []
    },
    {
      "cell_type": "code",
      "source": [
        "# Eigen decomposition\n",
        "# Breaking down to prime component tells us about the matrix\n",
        "\n",
        "# Matrix eigen decomposition => decomposed into eigen vector and values\n",
        "\n",
        "# If matrix has n eigen vectors\n",
        "\n",
        "eig_val, eig_vector = np.linalg.eig(A)\n",
        "\n",
        "# When we multiply matrix with eigen vector it scales and becomes elipse\n",
        "# Sclaing fact is lambda\n",
        "# A.eigen_vector = lambda.eigen_vector\n",
        "# pg:41\n",
        "\n",
        "\n"
      ],
      "metadata": {
        "id": "hMTcBDyMsQ2i"
      },
      "execution_count": null,
      "outputs": []
    },
    {
      "cell_type": "code",
      "source": [
        "# Singular value decomposition\n",
        "# Another way to decompose to vector and value\n",
        "# Every matrix has a SVD decomposition but not necessarily eigen decomposition\n",
        "\n",
        "#\n",
        "\n",
        "np.linalg.svd(A)"
      ],
      "metadata": {
        "id": "Mkz2EZGLv2Co"
      },
      "execution_count": null,
      "outputs": []
    },
    {
      "cell_type": "code",
      "source": [
        "# Determinant of a matrix is the product of all eigen values of the matrix\n",
        "# If determinant is 0 that means the space is contracted completely, atleast in\n",
        "# one dimension.\n",
        "\n",
        "np.linalg.det(I)"
      ],
      "metadata": {
        "id": "F0xA1PG2x7qq"
      },
      "execution_count": null,
      "outputs": []
    },
    {
      "cell_type": "markdown",
      "source": [],
      "metadata": {
        "id": "cRvv8m_5K-fJ"
      }
    }
  ]
}